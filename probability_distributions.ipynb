{
 "cells": [
  {
   "cell_type": "code",
   "execution_count": 144,
   "id": "bd18a69a",
   "metadata": {},
   "outputs": [],
   "source": [
    "import pandas as pd\n",
    "import matplotlib.pyplot as plt\n",
    "import numpy as np\n",
    "from scipy import stats\n",
    "from numpy import random\n"
   ]
  },
  {
   "cell_type": "markdown",
   "id": "b1b510e8",
   "metadata": {},
   "source": [
    "For the following problems, use python to simulate the problem and calculate an experimental probability, then compare that to the theoretical probability.\n",
    "\n",
    "## 1. A Answering Simulated\n",
    "A bank found that the average number of cars waiting during the noon hour at a drive-up window follows a Poisson distribution with a mean of 2 cars. Make a chart of this distribution and answer these questions concerning the probability of cars waiting at the drive-up window.\n",
    "\n",
    "- What is the probability that no cars drive up in the noon hour?\n",
    "- What is the probability that 3 or more cars come through the drive through?\n",
    "- How likely is it that the drive through gets at least 1 car?"
   ]
  },
  {
   "cell_type": "code",
   "execution_count": 153,
   "id": "0901f45f",
   "metadata": {},
   "outputs": [
    {
     "data": {
      "text/html": [
       "<div>\n",
       "<style scoped>\n",
       "    .dataframe tbody tr th:only-of-type {\n",
       "        vertical-align: middle;\n",
       "    }\n",
       "\n",
       "    .dataframe tbody tr th {\n",
       "        vertical-align: top;\n",
       "    }\n",
       "\n",
       "    .dataframe thead th {\n",
       "        text-align: right;\n",
       "    }\n",
       "</style>\n",
       "<table border=\"1\" class=\"dataframe\">\n",
       "  <thead>\n",
       "    <tr style=\"text-align: right;\">\n",
       "      <th></th>\n",
       "      <th>0</th>\n",
       "      <th>car_0</th>\n",
       "      <th>car_1</th>\n",
       "      <th>car_2</th>\n",
       "      <th>car_3</th>\n",
       "      <th>car_4</th>\n",
       "      <th>car_3ormore</th>\n",
       "      <th>at_least1</th>\n",
       "    </tr>\n",
       "  </thead>\n",
       "  <tbody>\n",
       "    <tr>\n",
       "      <th>0</th>\n",
       "      <td>3</td>\n",
       "      <td>False</td>\n",
       "      <td>False</td>\n",
       "      <td>False</td>\n",
       "      <td>True</td>\n",
       "      <td>False</td>\n",
       "      <td>True</td>\n",
       "      <td>True</td>\n",
       "    </tr>\n",
       "    <tr>\n",
       "      <th>1</th>\n",
       "      <td>2</td>\n",
       "      <td>False</td>\n",
       "      <td>False</td>\n",
       "      <td>True</td>\n",
       "      <td>False</td>\n",
       "      <td>False</td>\n",
       "      <td>False</td>\n",
       "      <td>True</td>\n",
       "    </tr>\n",
       "    <tr>\n",
       "      <th>2</th>\n",
       "      <td>3</td>\n",
       "      <td>False</td>\n",
       "      <td>False</td>\n",
       "      <td>False</td>\n",
       "      <td>True</td>\n",
       "      <td>False</td>\n",
       "      <td>True</td>\n",
       "      <td>True</td>\n",
       "    </tr>\n",
       "    <tr>\n",
       "      <th>3</th>\n",
       "      <td>3</td>\n",
       "      <td>False</td>\n",
       "      <td>False</td>\n",
       "      <td>False</td>\n",
       "      <td>True</td>\n",
       "      <td>False</td>\n",
       "      <td>True</td>\n",
       "      <td>True</td>\n",
       "    </tr>\n",
       "    <tr>\n",
       "      <th>4</th>\n",
       "      <td>5</td>\n",
       "      <td>False</td>\n",
       "      <td>False</td>\n",
       "      <td>False</td>\n",
       "      <td>False</td>\n",
       "      <td>False</td>\n",
       "      <td>True</td>\n",
       "      <td>True</td>\n",
       "    </tr>\n",
       "    <tr>\n",
       "      <th>...</th>\n",
       "      <td>...</td>\n",
       "      <td>...</td>\n",
       "      <td>...</td>\n",
       "      <td>...</td>\n",
       "      <td>...</td>\n",
       "      <td>...</td>\n",
       "      <td>...</td>\n",
       "      <td>...</td>\n",
       "    </tr>\n",
       "    <tr>\n",
       "      <th>999995</th>\n",
       "      <td>2</td>\n",
       "      <td>False</td>\n",
       "      <td>False</td>\n",
       "      <td>True</td>\n",
       "      <td>False</td>\n",
       "      <td>False</td>\n",
       "      <td>False</td>\n",
       "      <td>True</td>\n",
       "    </tr>\n",
       "    <tr>\n",
       "      <th>999996</th>\n",
       "      <td>2</td>\n",
       "      <td>False</td>\n",
       "      <td>False</td>\n",
       "      <td>True</td>\n",
       "      <td>False</td>\n",
       "      <td>False</td>\n",
       "      <td>False</td>\n",
       "      <td>True</td>\n",
       "    </tr>\n",
       "    <tr>\n",
       "      <th>999997</th>\n",
       "      <td>2</td>\n",
       "      <td>False</td>\n",
       "      <td>False</td>\n",
       "      <td>True</td>\n",
       "      <td>False</td>\n",
       "      <td>False</td>\n",
       "      <td>False</td>\n",
       "      <td>True</td>\n",
       "    </tr>\n",
       "    <tr>\n",
       "      <th>999998</th>\n",
       "      <td>1</td>\n",
       "      <td>False</td>\n",
       "      <td>True</td>\n",
       "      <td>False</td>\n",
       "      <td>False</td>\n",
       "      <td>False</td>\n",
       "      <td>False</td>\n",
       "      <td>True</td>\n",
       "    </tr>\n",
       "    <tr>\n",
       "      <th>999999</th>\n",
       "      <td>5</td>\n",
       "      <td>False</td>\n",
       "      <td>False</td>\n",
       "      <td>False</td>\n",
       "      <td>False</td>\n",
       "      <td>False</td>\n",
       "      <td>True</td>\n",
       "      <td>True</td>\n",
       "    </tr>\n",
       "  </tbody>\n",
       "</table>\n",
       "<p>1000000 rows × 8 columns</p>\n",
       "</div>"
      ],
      "text/plain": [
       "        0  car_0  car_1  car_2  car_3  car_4  car_3ormore  at_least1\n",
       "0       3  False  False  False   True  False         True       True\n",
       "1       2  False  False   True  False  False        False       True\n",
       "2       3  False  False  False   True  False         True       True\n",
       "3       3  False  False  False   True  False         True       True\n",
       "4       5  False  False  False  False  False         True       True\n",
       "...    ..    ...    ...    ...    ...    ...          ...        ...\n",
       "999995  2  False  False   True  False  False        False       True\n",
       "999996  2  False  False   True  False  False        False       True\n",
       "999997  2  False  False   True  False  False        False       True\n",
       "999998  1  False   True  False  False  False        False       True\n",
       "999999  5  False  False  False  False  False         True       True\n",
       "\n",
       "[1000000 rows x 8 columns]"
      ]
     },
     "execution_count": 153,
     "metadata": {},
     "output_type": "execute_result"
    }
   ],
   "source": [
    "x = random.poisson(lam=2, size=1000000)\n",
    "noon = pd.DataFrame(x)\n",
    "noon['car_0'] = noon[0] == 0\n",
    "noon['car_1'] = noon[0] == 1\n",
    "noon['car_2'] = noon[0] == 2\n",
    "noon['car_3'] = noon[0] == 3\n",
    "noon['car_4'] = noon[0] == 4\n",
    "noon['car_3ormore'] = noon[0] >= 3\n",
    "noon['at_least1'] = noon[0] > 0\n",
    "noon"
   ]
  },
  {
   "cell_type": "code",
   "execution_count": 154,
   "id": "45577e98",
   "metadata": {},
   "outputs": [],
   "source": [
    "# Theoritcal answer\n",
    "p_no_cars = noon.car_0.mean()\n",
    "p_3ormore = noon.car_3ormore.mean()\n",
    "p_at_least1 = 1 - noon.car_0.mean()"
   ]
  },
  {
   "cell_type": "code",
   "execution_count": 155,
   "id": "460b623b",
   "metadata": {},
   "outputs": [
    {
     "data": {
      "text/plain": [
       "0.135673"
      ]
     },
     "execution_count": 155,
     "metadata": {},
     "output_type": "execute_result"
    }
   ],
   "source": [
    "p_no_cars"
   ]
  },
  {
   "cell_type": "code",
   "execution_count": 156,
   "id": "4a2f2d11",
   "metadata": {},
   "outputs": [
    {
     "data": {
      "text/plain": [
       "0.323009"
      ]
     },
     "execution_count": 156,
     "metadata": {},
     "output_type": "execute_result"
    }
   ],
   "source": [
    "p_3ormore"
   ]
  },
  {
   "cell_type": "code",
   "execution_count": 157,
   "id": "e76c0f07",
   "metadata": {},
   "outputs": [
    {
     "data": {
      "text/plain": [
       "0.8643270000000001"
      ]
     },
     "execution_count": 157,
     "metadata": {},
     "output_type": "execute_result"
    }
   ],
   "source": [
    "p_at_least1"
   ]
  },
  {
   "cell_type": "markdown",
   "id": "fe8d1cac",
   "metadata": {},
   "source": [
    "## 1) b. Answering Theoritically"
   ]
  },
  {
   "cell_type": "code",
   "execution_count": 106,
   "id": "cc319ca1",
   "metadata": {},
   "outputs": [
    {
     "data": {
      "text/plain": [
       "0.1353352832366127"
      ]
     },
     "execution_count": 106,
     "metadata": {},
     "output_type": "execute_result"
    }
   ],
   "source": [
    "stats.poisson(2).pmf(0)"
   ]
  },
  {
   "cell_type": "code",
   "execution_count": 279,
   "id": "3891fb14",
   "metadata": {},
   "outputs": [
    {
     "data": {
      "text/plain": [
       "0.32332358381693654"
      ]
     },
     "execution_count": 279,
     "metadata": {},
     "output_type": "execute_result"
    }
   ],
   "source": [
    "stats.poisson(2).sf(2)"
   ]
  },
  {
   "cell_type": "code",
   "execution_count": 108,
   "id": "44f09559",
   "metadata": {},
   "outputs": [
    {
     "data": {
      "text/plain": [
       "0.8646647167633873"
      ]
     },
     "execution_count": 108,
     "metadata": {},
     "output_type": "execute_result"
    }
   ],
   "source": [
    "stats.poisson(2).sf(0)"
   ]
  },
  {
   "cell_type": "code",
   "execution_count": 109,
   "id": "d8abbf59",
   "metadata": {},
   "outputs": [
    {
     "data": {
      "text/plain": [
       "Text(0.5, 0, 'Cars in drivethru')"
      ]
     },
     "execution_count": 109,
     "metadata": {},
     "output_type": "execute_result"
    },
    {
     "data": {
      "image/png": "[encoded data removed]",
      "text/plain": [
       "<Figure size 648x432 with 1 Axes>"
      ]
     },
     "metadata": {
      "needs_background": "light"
     },
     "output_type": "display_data"
    }
   ],
   "source": [
    "x = range(16)\n",
    "y = stats.poisson(2).pmf(x)\n",
    "plt.figure(figsize=(9, 6))\n",
    "plt.bar(x, y, edgecolor='black', color='white', width=1)\n",
    "plt.xticks(x)\n",
    "plt.ylabel('P(X = x)')\n",
    "plt.xlabel('Cars in drivethru')"
   ]
  },
  {
   "cell_type": "markdown",
   "id": "abac0e0f",
   "metadata": {},
   "source": [
    "## 2 ) A. Answering Simulated\n",
    "Grades of State University graduates are normally distributed with a mean of 3.0 and a standard deviation of .3. Calculate the following:\n",
    "\n",
    "- What grade point average is required to be in the top 5% of the graduating class?\n",
    "- What GPA constitutes the bottom 15% of the class?\n",
    "- An eccentric alumnus left scholarship money for students in the third decile from the bottom of their class. Determine the range of the third decile. Would a student with a 2.8 grade point average qualify for this scholarship?\n",
    "- If I have a GPA of 3.5, what percentile am I in?"
   ]
  },
  {
   "cell_type": "code",
   "execution_count": 181,
   "id": "6e0e8a05",
   "metadata": {},
   "outputs": [
    {
     "data": {
      "text/html": [
       "<div>\n",
       "<style scoped>\n",
       "    .dataframe tbody tr th:only-of-type {\n",
       "        vertical-align: middle;\n",
       "    }\n",
       "\n",
       "    .dataframe tbody tr th {\n",
       "        vertical-align: top;\n",
       "    }\n",
       "\n",
       "    .dataframe thead th {\n",
       "        text-align: right;\n",
       "    }\n",
       "</style>\n",
       "<table border=\"1\" class=\"dataframe\">\n",
       "  <thead>\n",
       "    <tr style=\"text-align: right;\">\n",
       "      <th></th>\n",
       "      <th>0</th>\n",
       "    </tr>\n",
       "  </thead>\n",
       "  <tbody>\n",
       "    <tr>\n",
       "      <th>0</th>\n",
       "      <td>2.729815</td>\n",
       "    </tr>\n",
       "    <tr>\n",
       "      <th>1</th>\n",
       "      <td>3.675131</td>\n",
       "    </tr>\n",
       "    <tr>\n",
       "      <th>2</th>\n",
       "      <td>2.889524</td>\n",
       "    </tr>\n",
       "    <tr>\n",
       "      <th>3</th>\n",
       "      <td>2.553772</td>\n",
       "    </tr>\n",
       "    <tr>\n",
       "      <th>4</th>\n",
       "      <td>3.024270</td>\n",
       "    </tr>\n",
       "    <tr>\n",
       "      <th>...</th>\n",
       "      <td>...</td>\n",
       "    </tr>\n",
       "    <tr>\n",
       "      <th>9995</th>\n",
       "      <td>3.044334</td>\n",
       "    </tr>\n",
       "    <tr>\n",
       "      <th>9996</th>\n",
       "      <td>3.047423</td>\n",
       "    </tr>\n",
       "    <tr>\n",
       "      <th>9997</th>\n",
       "      <td>2.497436</td>\n",
       "    </tr>\n",
       "    <tr>\n",
       "      <th>9998</th>\n",
       "      <td>3.382792</td>\n",
       "    </tr>\n",
       "    <tr>\n",
       "      <th>9999</th>\n",
       "      <td>2.855404</td>\n",
       "    </tr>\n",
       "  </tbody>\n",
       "</table>\n",
       "<p>10000 rows × 1 columns</p>\n",
       "</div>"
      ],
      "text/plain": [
       "             0\n",
       "0     2.729815\n",
       "1     3.675131\n",
       "2     2.889524\n",
       "3     2.553772\n",
       "4     3.024270\n",
       "...        ...\n",
       "9995  3.044334\n",
       "9996  3.047423\n",
       "9997  2.497436\n",
       "9998  3.382792\n",
       "9999  2.855404\n",
       "\n",
       "[10000 rows x 1 columns]"
      ]
     },
     "execution_count": 181,
     "metadata": {},
     "output_type": "execute_result"
    }
   ],
   "source": [
    "grades = np.random.normal(3, .3, 10000)\n",
    "grades = pd.DataFrame(grades)\n",
    "grades"
   ]
  },
  {
   "cell_type": "code",
   "execution_count": 280,
   "id": "9074c296",
   "metadata": {},
   "outputs": [
    {
     "data": {
      "text/plain": [
       "0    3.495753\n",
       "Name: 0.95, dtype: float64"
      ]
     },
     "execution_count": 280,
     "metadata": {},
     "output_type": "execute_result"
    }
   ],
   "source": [
    "grades.quantile(.95)"
   ]
  },
  {
   "cell_type": "code",
   "execution_count": 183,
   "id": "03ec7289",
   "metadata": {},
   "outputs": [
    {
     "data": {
      "text/plain": [
       "array([2.69502846])"
      ]
     },
     "execution_count": 183,
     "metadata": {},
     "output_type": "execute_result"
    }
   ],
   "source": [
    "grades.quantile(.15).values\n"
   ]
  },
  {
   "cell_type": "code",
   "execution_count": 283,
   "id": "ba32d2b7",
   "metadata": {},
   "outputs": [
    {
     "data": {
      "text/plain": [
       "(array([2.75210683]), array([2.84724562]))"
      ]
     },
     "execution_count": 283,
     "metadata": {},
     "output_type": "execute_result"
    }
   ],
   "source": [
    "(grades.quantile(.20).values,grades.quantile(.30).values)\n"
   ]
  },
  {
   "cell_type": "code",
   "execution_count": 301,
   "id": "2623a9ca",
   "metadata": {},
   "outputs": [
    {
     "data": {
      "text/plain": [
       "<bound method DataFrame.reset_index of         0\n",
       "0     1.0\n",
       "1     NaN\n",
       "2     1.0\n",
       "3     1.0\n",
       "4     1.0\n",
       "...   ...\n",
       "9995  1.0\n",
       "9996  1.0\n",
       "9997  1.0\n",
       "9998  1.0\n",
       "9999  1.0\n",
       "\n",
       "[10000 rows x 1 columns]>"
      ]
     },
     "execution_count": 301,
     "metadata": {},
     "output_type": "execute_result"
    }
   ],
   "source": [
    "low_grade = grades<3.5\n"
   ]
  },
  {
   "cell_type": "markdown",
   "id": "872b97e7",
   "metadata": {},
   "source": [
    "## 2) b. Solving Theoritically\n"
   ]
  },
  {
   "cell_type": "code",
   "execution_count": 196,
   "id": "9303742a",
   "metadata": {},
   "outputs": [
    {
     "data": {
      "text/plain": [
       "3.4934560880854417"
      ]
     },
     "execution_count": 196,
     "metadata": {},
     "output_type": "execute_result"
    }
   ],
   "source": [
    "gradess = stats.norm(3, .3)\n",
    "\n",
    "gradess.ppf(.95)"
   ]
  },
  {
   "cell_type": "code",
   "execution_count": 197,
   "id": "8b748094",
   "metadata": {},
   "outputs": [
    {
     "data": {
      "text/plain": [
       "2.689069983151863"
      ]
     },
     "execution_count": 197,
     "metadata": {},
     "output_type": "execute_result"
    }
   ],
   "source": [
    "gradess.ppf(.15)"
   ]
  },
  {
   "cell_type": "code",
   "execution_count": 198,
   "id": "408af856",
   "metadata": {},
   "outputs": [
    {
     "data": {
      "text/plain": [
       "(2.7475136299281258, 2.842679846187588)"
      ]
     },
     "execution_count": 198,
     "metadata": {},
     "output_type": "execute_result"
    }
   ],
   "source": [
    "(gradess.ppf(2/10),sales.ppf(3/10))"
   ]
  },
  {
   "cell_type": "markdown",
   "id": "06c41261",
   "metadata": {},
   "source": [
    "2.8 would qualify"
   ]
  },
  {
   "cell_type": "code",
   "execution_count": 113,
   "id": "8d9235b1",
   "metadata": {},
   "outputs": [
    {
     "data": {
      "text/plain": [
       "95.22096477271853"
      ]
     },
     "execution_count": 113,
     "metadata": {},
     "output_type": "execute_result"
    }
   ],
   "source": [
    "gradess.cdf(3.5)*100"
   ]
  },
  {
   "cell_type": "markdown",
   "id": "ef2e47da",
   "metadata": {},
   "source": [
    "## 3) A. Solving simulation\n",
    "A marketing website has an average click-through rate of 2%. One day they observe 4326 visitors and 97 click-throughs. How likely is it that this many people or more click through?"
   ]
  },
  {
   "cell_type": "code",
   "execution_count": 212,
   "id": "f16bdbdf",
   "metadata": {},
   "outputs": [
    {
     "data": {
      "text/html": [
       "<div>\n",
       "<style scoped>\n",
       "    .dataframe tbody tr th:only-of-type {\n",
       "        vertical-align: middle;\n",
       "    }\n",
       "\n",
       "    .dataframe tbody tr th {\n",
       "        vertical-align: top;\n",
       "    }\n",
       "\n",
       "    .dataframe thead th {\n",
       "        text-align: right;\n",
       "    }\n",
       "</style>\n",
       "<table border=\"1\" class=\"dataframe\">\n",
       "  <thead>\n",
       "    <tr style=\"text-align: right;\">\n",
       "      <th></th>\n",
       "      <th>clicks</th>\n",
       "    </tr>\n",
       "  </thead>\n",
       "  <tbody>\n",
       "    <tr>\n",
       "      <th>0</th>\n",
       "      <td>95</td>\n",
       "    </tr>\n",
       "    <tr>\n",
       "      <th>1</th>\n",
       "      <td>84</td>\n",
       "    </tr>\n",
       "    <tr>\n",
       "      <th>2</th>\n",
       "      <td>86</td>\n",
       "    </tr>\n",
       "    <tr>\n",
       "      <th>3</th>\n",
       "      <td>70</td>\n",
       "    </tr>\n",
       "    <tr>\n",
       "      <th>4</th>\n",
       "      <td>78</td>\n",
       "    </tr>\n",
       "    <tr>\n",
       "      <th>...</th>\n",
       "      <td>...</td>\n",
       "    </tr>\n",
       "    <tr>\n",
       "      <th>9995</th>\n",
       "      <td>94</td>\n",
       "    </tr>\n",
       "    <tr>\n",
       "      <th>9996</th>\n",
       "      <td>69</td>\n",
       "    </tr>\n",
       "    <tr>\n",
       "      <th>9997</th>\n",
       "      <td>81</td>\n",
       "    </tr>\n",
       "    <tr>\n",
       "      <th>9998</th>\n",
       "      <td>80</td>\n",
       "    </tr>\n",
       "    <tr>\n",
       "      <th>9999</th>\n",
       "      <td>83</td>\n",
       "    </tr>\n",
       "  </tbody>\n",
       "</table>\n",
       "<p>10000 rows × 1 columns</p>\n",
       "</div>"
      ],
      "text/plain": [
       "      clicks\n",
       "0         95\n",
       "1         84\n",
       "2         86\n",
       "3         70\n",
       "4         78\n",
       "...      ...\n",
       "9995      94\n",
       "9996      69\n",
       "9997      81\n",
       "9998      80\n",
       "9999      83\n",
       "\n",
       "[10000 rows x 1 columns]"
      ]
     },
     "execution_count": 212,
     "metadata": {},
     "output_type": "execute_result"
    }
   ],
   "source": [
    "click = pd.DataFrame(np.random.binomial(4326,.02, 10_000)).rename(columns= ({0:\"clicks\"}))\n",
    "click\n"
   ]
  },
  {
   "cell_type": "code",
   "execution_count": 216,
   "id": "6aaab8fc",
   "metadata": {},
   "outputs": [
    {
     "data": {
      "text/plain": [
       "clicks    0.1177\n",
       "dtype: float64"
      ]
     },
     "execution_count": 216,
     "metadata": {},
     "output_type": "execute_result"
    }
   ],
   "source": [
    "ninty_seven = click>97\n",
    "ninty_seven.mean()"
   ]
  },
  {
   "cell_type": "markdown",
   "id": "e1f0241d",
   "metadata": {},
   "source": [
    "## 3)B. Solving Theoritically"
   ]
  },
  {
   "cell_type": "code",
   "execution_count": 290,
   "id": "9a1598e8",
   "metadata": {},
   "outputs": [],
   "source": [
    "clicks = stats.binom(4326,.02)"
   ]
  },
  {
   "cell_type": "code",
   "execution_count": 292,
   "id": "22695288",
   "metadata": {},
   "outputs": [
    {
     "data": {
      "text/plain": [
       "0.1397582363130086"
      ]
     },
     "execution_count": 292,
     "metadata": {},
     "output_type": "execute_result"
    }
   ],
   "source": [
    "clicks.sf(96)"
   ]
  },
  {
   "cell_type": "markdown",
   "id": "79c138b3",
   "metadata": {},
   "source": [
    "## 4 ) Solving simulation"
   ]
  },
  {
   "cell_type": "markdown",
   "id": "1139c6cf",
   "metadata": {},
   "source": [
    "You are working on some statistics homework consisting of 100 questions where all of the answers are a probability rounded to the hundreths place. Looking to save time, you put down random probabilities as the answer to each question.\n",
    "\n",
    "- What is the probability that at least one of your first 60 answers is correct?"
   ]
  },
  {
   "cell_type": "code",
   "execution_count": 289,
   "id": "7e9118fe",
   "metadata": {},
   "outputs": [
    {
     "data": {
      "text/plain": [
       "0    0.45653\n",
       "dtype: float64"
      ]
     },
     "execution_count": 289,
     "metadata": {},
     "output_type": "execute_result"
    }
   ],
   "source": [
    "homework_sample = random.binomial(60, 0.01, 100_000)\n",
    "homework_sample = pd.DataFrame(homework_sample)\n",
    "at_least_one = homework_sample > 0\n",
    "at_least_one.mean()"
   ]
  },
  {
   "cell_type": "markdown",
   "id": "00ed3d3e",
   "metadata": {},
   "source": [
    "## 4) Solving Theoritically"
   ]
  },
  {
   "cell_type": "code",
   "execution_count": 221,
   "id": "2529374d",
   "metadata": {},
   "outputs": [],
   "source": [
    "homework = stats.binom(60,1/100)"
   ]
  },
  {
   "cell_type": "code",
   "execution_count": 222,
   "id": "b2563aff",
   "metadata": {},
   "outputs": [
    {
     "data": {
      "text/plain": [
       "0.4528433576092388"
      ]
     },
     "execution_count": 222,
     "metadata": {},
     "output_type": "execute_result"
    }
   ],
   "source": [
    "homework.sf(0)"
   ]
  },
  {
   "cell_type": "markdown",
   "id": "7d71aa54",
   "metadata": {},
   "source": [
    "## 5 "
   ]
  },
  {
   "cell_type": "markdown",
   "id": "1b6462cd",
   "metadata": {},
   "source": [
    "The codeup staff tends to get upset when the student break area is not cleaned up. Suppose that there's a 3% chance that any one student cleans the break area when they visit it, and, on any given day, about 90% of the 3 active cohorts of 22 students visit the break area. \n",
    "- How likely is it that the break area gets cleaned up each day? \n",
    "- How likely is it that it goes two days without getting cleaned up?\n",
    "- All week?"
   ]
  },
  {
   "cell_type": "code",
   "execution_count": 303,
   "id": "2e845882",
   "metadata": {},
   "outputs": [],
   "source": [
    "break_room = stats.binom(66*.9,.03)"
   ]
  },
  {
   "cell_type": "code",
   "execution_count": 304,
   "id": "1ab8e46e",
   "metadata": {},
   "outputs": [
    {
     "data": {
      "text/plain": [
       "0.8342199288437355"
      ]
     },
     "execution_count": 304,
     "metadata": {},
     "output_type": "execute_result"
    }
   ],
   "source": [
    "break_room.sf(0)"
   ]
  },
  {
   "cell_type": "code",
   "execution_count": 308,
   "id": "89e5c155",
   "metadata": {},
   "outputs": [
    {
     "data": {
      "text/plain": [
       "0.02748303199257613"
      ]
     },
     "execution_count": 308,
     "metadata": {},
     "output_type": "execute_result"
    }
   ],
   "source": [
    "break_room.cdf(0)**2\n"
   ]
  },
  {
   "cell_type": "code",
   "execution_count": 309,
   "id": "dbd08603",
   "metadata": {},
   "outputs": [
    {
     "data": {
      "text/plain": [
       "0.00012521651388091242"
      ]
     },
     "execution_count": 309,
     "metadata": {},
     "output_type": "execute_result"
    }
   ],
   "source": [
    "break_room.cdf(0)**5"
   ]
  },
  {
   "cell_type": "code",
   "execution_count": 122,
   "id": "d266b164",
   "metadata": {},
   "outputs": [
    {
     "data": {
      "text/plain": [
       "Text(0.5, 0, 'Clean break room ')"
      ]
     },
     "execution_count": 122,
     "metadata": {},
     "output_type": "execute_result"
    },
    {
     "data": {
      "image/png": "[encoded data removed]",
      "text/plain": [
       "<Figure size 648x432 with 1 Axes>"
      ]
     },
     "metadata": {
      "needs_background": "light"
     },
     "output_type": "display_data"
    }
   ],
   "source": [
    "x = range(16)\n",
    "y = break_room.pmf(x)\n",
    "plt.figure(figsize=(9, 6))\n",
    "plt.bar(x, y, edgecolor='black', color='white', width=1)\n",
    "plt.xticks(x)\n",
    "plt.ylabel('P(X = x)')\n",
    "plt.xlabel('Clean break room ')"
   ]
  },
  {
   "cell_type": "markdown",
   "id": "014ce094",
   "metadata": {},
   "source": [
    "## 6\n",
    "You want to get lunch at La Panaderia, but notice that the line is usually very long at lunchtime. After several weeks of careful observation, you notice that the average number of people in line when your lunch break starts is normally distributed with a mean of 15 and standard deviation of 3. \n",
    "- If it takes 2 minutes for each person to order, and 10 minutes from ordering to getting your food, what is the likelihood that you have at least 15 minutes left to eat your food before you have to go back to class?\n",
    "- Assume you have one hour for lunch, and ignore travel time to and from La Panaderia."
   ]
  },
  {
   "cell_type": "code",
   "execution_count": null,
   "id": "d301e23d",
   "metadata": {},
   "outputs": [],
   "source": []
  },
  {
   "cell_type": "markdown",
   "id": "08467799",
   "metadata": {},
   "source": [
    "### using stats.norm"
   ]
  },
  {
   "cell_type": "code",
   "execution_count": 310,
   "id": "3cb68afd",
   "metadata": {},
   "outputs": [],
   "source": [
    "lunch = stats.norm(((15*2)+12), 3*2)"
   ]
  },
  {
   "cell_type": "code",
   "execution_count": 313,
   "id": "590a6ee8",
   "metadata": {},
   "outputs": [
    {
     "data": {
      "text/plain": [
       "0.6914624612740131"
      ]
     },
     "execution_count": 313,
     "metadata": {},
     "output_type": "execute_result"
    }
   ],
   "source": [
    "lunch.cdf(45)"
   ]
  },
  {
   "cell_type": "markdown",
   "id": "f77ccd44",
   "metadata": {},
   "source": [
    "## 7\n",
    "Connect to the employees database and find the average salary of current employees, along with the standard deviation. For the following questions, calculate the answer based on modeling the employees salaries with a normal distribution defined by the calculated mean and standard deviation then compare this answer to the actual values present in the salaries dataset.\n",
    "\n",
    "- What percent of employees earn less than 60,000?\n",
    "- What percent of employees earn more than 95,000?\n",
    "- What percent of employees earn between 65,000 and 80,000?\n",
    "- What do the top 5% of employees make?"
   ]
  },
  {
   "cell_type": "code",
   "execution_count": 21,
   "id": "14349c95",
   "metadata": {},
   "outputs": [],
   "source": [
    "from env import host, user, password\n",
    "def get_db_url(database):\n",
    "    url = f'mysql+pymysql://{user}:{password}@{host}/{database}'\n",
    "    return url"
   ]
  },
  {
   "cell_type": "code",
   "execution_count": 260,
   "id": "f06659f5",
   "metadata": {},
   "outputs": [],
   "source": [
    "employees = pd.read_sql('SELECT salary FROM salaries WHERE to_date > Now()', get_db_url('employees'))"
   ]
  },
  {
   "cell_type": "code",
   "execution_count": 261,
   "id": "dcc2f892",
   "metadata": {},
   "outputs": [],
   "source": [
    "that_green=employees.salary"
   ]
  },
  {
   "cell_type": "code",
   "execution_count": 262,
   "id": "7ac02170",
   "metadata": {},
   "outputs": [],
   "source": [
    "cheap_green = that_green<60_000"
   ]
  },
  {
   "cell_type": "code",
   "execution_count": 263,
   "id": "1e174d63",
   "metadata": {},
   "outputs": [
    {
     "data": {
      "text/plain": [
       "27.05727041028802"
      ]
     },
     "execution_count": 263,
     "metadata": {},
     "output_type": "execute_result"
    }
   ],
   "source": [
    "cheap_green.mean()*100"
   ]
  },
  {
   "cell_type": "code",
   "execution_count": 264,
   "id": "3f793e82",
   "metadata": {},
   "outputs": [],
   "source": [
    "big_green = that_green > 95_000\n"
   ]
  },
  {
   "cell_type": "code",
   "execution_count": 265,
   "id": "0a3c9484",
   "metadata": {},
   "outputs": [
    {
     "data": {
      "text/plain": [
       "10.86272092752078"
      ]
     },
     "execution_count": 265,
     "metadata": {},
     "output_type": "execute_result"
    }
   ],
   "source": [
    "big_green.mean()*100"
   ]
  },
  {
   "cell_type": "code",
   "execution_count": 275,
   "id": "bc71de0b",
   "metadata": {},
   "outputs": [],
   "source": [
    "meh_green = (that_green>65_000) & (that_green < 80_000)"
   ]
  },
  {
   "cell_type": "code",
   "execution_count": 277,
   "id": "206bd2ff",
   "metadata": {},
   "outputs": [
    {
     "data": {
      "text/plain": [
       "salary    32.510703\n",
       "dtype: float64"
      ]
     },
     "execution_count": 277,
     "metadata": {},
     "output_type": "execute_result"
    }
   ],
   "source": [
    "meh_green.mean()*100"
   ]
  },
  {
   "cell_type": "code",
   "execution_count": 268,
   "id": "2f59f9c3",
   "metadata": {},
   "outputs": [],
   "source": [
    "that_green = pd.DataFrame(that_green)"
   ]
  },
  {
   "cell_type": "code",
   "execution_count": 269,
   "id": "4bf2c1e5",
   "metadata": {},
   "outputs": [
    {
     "data": {
      "text/plain": [
       "104225.84999999998"
      ]
     },
     "execution_count": 269,
     "metadata": {},
     "output_type": "execute_result"
    }
   ],
   "source": [
    "employees.salary.quantile(.95)\n"
   ]
  },
  {
   "cell_type": "markdown",
   "id": "cb93fbb5",
   "metadata": {},
   "source": [
    "### using stats.norm"
   ]
  },
  {
   "cell_type": "code",
   "execution_count": 270,
   "id": "85aa7e5e",
   "metadata": {},
   "outputs": [],
   "source": [
    "μ, σ = fitted = stats.norm.fit(that_green)"
   ]
  },
  {
   "cell_type": "code",
   "execution_count": 271,
   "id": "616aee59",
   "metadata": {},
   "outputs": [],
   "source": [
    "salaries_exp = stats.norm(μ, σ)"
   ]
  },
  {
   "cell_type": "code",
   "execution_count": 272,
   "id": "9ace2e09",
   "metadata": {},
   "outputs": [
    {
     "data": {
      "text/plain": [
       "24.385697169355414"
      ]
     },
     "execution_count": 272,
     "metadata": {},
     "output_type": "execute_result"
    }
   ],
   "source": [
    "salaries_exp.cdf(60_000)*100"
   ]
  },
  {
   "cell_type": "code",
   "execution_count": 273,
   "id": "002e2100",
   "metadata": {},
   "outputs": [
    {
     "data": {
      "text/plain": [
       "9.208773524186059"
      ]
     },
     "execution_count": 273,
     "metadata": {},
     "output_type": "execute_result"
    }
   ],
   "source": [
    "salaries_exp.sf(95_000)*100"
   ]
  },
  {
   "cell_type": "code",
   "execution_count": 278,
   "id": "bd53972c",
   "metadata": {},
   "outputs": [
    {
     "data": {
      "text/plain": [
       "33.50612231665161"
      ]
     },
     "execution_count": 278,
     "metadata": {},
     "output_type": "execute_result"
    }
   ],
   "source": [
    "(salaries_exp.cdf(80_000)-salaries_exp.cdf(65_000))*100"
   ]
  },
  {
   "cell_type": "code",
   "execution_count": 247,
   "id": "2eb6ac0b",
   "metadata": {},
   "outputs": [
    {
     "data": {
      "text/plain": [
       "100484.5852540796"
      ]
     },
     "execution_count": 247,
     "metadata": {},
     "output_type": "execute_result"
    }
   ],
   "source": [
    "salaries_exp.ppf(.95)"
   ]
  },
  {
   "cell_type": "code",
   "execution_count": null,
   "id": "fe2a45fe",
   "metadata": {},
   "outputs": [],
   "source": []
  },
  {
   "cell_type": "code",
   "execution_count": null,
   "id": "0b192996",
   "metadata": {},
   "outputs": [],
   "source": []
  }
 ],
 "metadata": {
  "kernelspec": {
   "display_name": "Python 3",
   "language": "python",
   "name": "python3"
  },
  "language_info": {
   "codemirror_mode": {
    "name": "ipython",
    "version": 3
   },
   "file_extension": ".py",
   "mimetype": "text/x-python",
   "name": "python",
   "nbconvert_exporter": "python",
   "pygments_lexer": "ipython3",
   "version": "3.8.8"
  }
 },
 "nbformat": 4,
 "nbformat_minor": 5
}
