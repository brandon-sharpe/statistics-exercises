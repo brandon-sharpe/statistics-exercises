{
 "cells": [
  {
   "cell_type": "markdown",
   "id": "e7e841aa",
   "metadata": {},
   "source": [
    "## Excercise"
   ]
  },
  {
   "cell_type": "markdown",
   "id": "a5121a1f",
   "metadata": {},
   "source": [
    "\n",
    "## Has the network latency gone up since we switched internet service providers?\n",
    "\n",
    "$H_0:$ Mean latency in the three months after switiching internet service providers is less than or equal to mean latency in the three months before internet service providers.\n",
    "\n",
    "$H_a:$ Mean latency in the three months after switching internet service providers is greater than mean latency in the three months before switching internet service providers.\n",
    "\n",
    "Type I Error: To test this hypothesis, we sampled a group of people. Within our sample group, average latency for three months after switching internet service providers is greater than latency for three months before switching internet service providers, but the overall population experienced a decrease or no change in latency after switching internet service providers.\n",
    "\n",
    "Type II Error: To test our hypothesis, we sampled a group of people. Within our sample group, average latency for three months after switching internet service providers is less than the average latency for three months before switching internet service providers. The overall population, however, experienced an average increase in latency after switching internet service providers.\n",
    "\n",
    "\n"
   ]
  },
  {
   "cell_type": "markdown",
   "id": "4a9a1ebb",
   "metadata": {},
   "source": [
    "## Is the website redesign any good?\n",
    "\n",
    "$H_0$: The mean click-through rate in the six months before the website redesign is equal to or greater than the mean click-through rate in the six months after the website redesign.\n",
    "\n",
    "$H_a:$ The mean click-through rate in the six months before the website redesign is less than the mean click-through rate in the six months after the website redesign.\n",
    "\n",
    "Type I Error: To sample our hypothesis, we sampled the website's mean click rates for users in a set number of areas. Of the areas we sampled, the mean click through rate for the six months before the website redesign was less than the mean click through rate for the six months after the website redesign. However, the mean click rate of users in all areas shows an increase in the click through rate since the website redesign.\n",
    "\n",
    "Type II Error: To sample our hypothesis, we sampled the website's mean click rate for a set number of areas. Of the areas we sampled, the mean click through rate for the six months before the website redesign was greater than the click through rate for the six months after the website redesign. However, the mean click rate of all days shows no change in the click through rate since website redesign."
   ]
  },
  {
   "cell_type": "markdown",
   "id": "99de68f5",
   "metadata": {},
   "source": [
    "## Is our television ad driving more sales?\n",
    "\n",
    "$H_0:$ The mean sales rate in the six months before the television advertisement campaign began is greater than or equal to the mean sales rate in the six months after the television campaign began.\n",
    "\n",
    "$H_{a}:$ The mean sales rate in the six months before the television advertisement campaign began is less than the mean sales rate in the six months after the television campaign began.\n",
    "Type I Error: To test this hypothesis we sampled sales figures for a six month period in a set number of locations. In the sampled locations, the mean number of sales in the six months before the television advertising campaign began was less than the mean number of sales in the six months after the television advertising campaign began.\n",
    "However, in the whole market, sales rates remained the same after the television advertising campaign began.\n",
    "\n",
    "Type II Error: To test this hypothesis, we sampled the sales figures in a set number of locations. In the sampled locations, the mean number of sales in the six months before the television advertising campaign began was greater than the mean number of sales in the six months after the television advertising campaign began.\n",
    "However, in the whole market, sales decreased after the television advertising campaign began.\n",
    "\n",
    "\n"
   ]
  },
  {
   "cell_type": "code",
   "execution_count": null,
   "id": "bc5a1a6a",
   "metadata": {},
   "outputs": [],
   "source": []
  }
 ],
 "metadata": {
  "kernelspec": {
   "display_name": "Python 3",
   "language": "python",
   "name": "python3"
  },
  "language_info": {
   "codemirror_mode": {
    "name": "ipython",
    "version": 3
   },
   "file_extension": ".py",
   "mimetype": "text/x-python",
   "name": "python",
   "nbconvert_exporter": "python",
   "pygments_lexer": "ipython3",
   "version": "3.8.8"
  }
 },
 "nbformat": 4,
 "nbformat_minor": 5
}
