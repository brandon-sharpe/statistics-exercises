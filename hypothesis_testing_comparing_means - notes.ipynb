{
 "cells": [
  {
   "cell_type": "markdown",
   "metadata": {},
   "source": [
    "# Comparing Means\n",
    "\n",
    "\n",
    "|Goal|$H_{0}$|Data Needed|Parametric Test|Assumptions*|Non-parametric Test|  \n",
    "|---|---|---|---|---|---|  \n",
    "|Compare observed mean to theoretical one|$\\mu_{obs} = \\mu_{th}$|array-like of observed values & float of theoretical|One sample t-test: scipy.stats.ttest_1samp|Normally Distributed\\*\\*|One sample Wilcoxon signed rank test|   \n",
    "|Compare two observed means (independent samples)|$\\mu_{a} = \\mu_{b}$|2 array-like samples|Independent t-test (or 2-sample): scipy.stats.ttest_ind|Independent, Normally Distributed\\*\\*, Equal Variances\\*\\*\\*|Mann-Whitney's test|   \n",
    "|Compare several observed means (independent samples)|$\\mu_{a} = \\mu_{b} = \\mu_{n}$|n array-like samples|ANOVA: scipy.stats.f_oneway|Independent, Normally Distributed\\*\\*, Equal Variances|Kruskal-Wallis test|   \n",
    "\n",
    "\\*If assumptions can't be met, the equivalent non-parametric test can be used.   \n",
    "\\*\\*Normal Distribution assumption can be be met by having a large enough sample (due to Central Limit Theorem), or the data can be scaled using a Gaussian Scalar.   \n",
    "\\*\\*\\*The argument in the stats.ttest_ind() method of `equal_var` can be set to `False` to accomodate this assumption.   \n",
    "\n",
    "## One Sample T-Test\n",
    "\n",
    "Goal: Compare observed mean to theoretical one. \n",
    "\n",
    "1. Plot Distributions (i.e. Histograms!)  \n",
    "\n",
    "2. Establish Hypotheses   \n",
    "\n",
    "||||  \n",
    "|-----|-----|---------|  \n",
    "|Null Hypothesis|$H_{0}$|$\\mu_{obs} = \\mu_{th}$|  \n",
    "|Alternative Hypothesis (2-tail, significantly different)|$H_{a}$|$\\mu_{obs} != \\mu_{th}$|  \n",
    "|Alternative Hypothesis (1-tail, significantly smaller)|$H_{a}$|$\\mu_{obs} < \\mu_{th}$|  \n",
    "|Alternative Hypothesis (1-tail, significantly larger)|$H_{a}$|$\\mu_{obs} > \\mu_{th}$|      \n",
    "\n",
    "3. Set Significance Level: $\\alpha = .05$\n",
    "\n",
    "4. Verify Assumptions: Normal Distribution, or at least 30 observations and \"kinda\" normal. The more observations you have, the less \"normal\" it needs to appear. (CLT)  \n",
    "\n",
    "5. Compute test statistic and probability (t-statistic & p-value) using `scipy.stats.ttest_1samp`. \n",
    "\n",
    "6. Decide. For a 2-tailed test, we take the p-value as is. For a 1-tailed test, we evaluate $p/2 < \\alpha$ and $t > 0$ (to test if higher), and of a less-than test when $p/2 < \\alpha$ and $t < 0$.  \n",
    "\n",
    "### Example 1\n",
    "\n",
    "I believe customers who churn are charged more (monthly average) than the overall average monthly charges.  \n",
    "Is the mean of monthly charges of customers who churn significantly higher than the mean across all customers? \n",
    "\n",
    "We will use a 1-tailed (\"significantly higher\"), 1-sample (comparing 1 group to the average) t-test.  "
   ]
  },
  {
   "cell_type": "code",
   "execution_count": 11,
   "metadata": {},
   "outputs": [],
   "source": [
    "import pandas as pd\n",
    "import matplotlib.pyplot as plt\n",
    "import scipy.stats as stats\n",
    "import seaborn as sns\n",
    "\n",
    "df = pd.read_csv(\"Cust_Churn_Telco.csv\")  "
   ]
  },
  {
   "cell_type": "markdown",
   "metadata": {},
   "source": [
    "**A. Plot Distribution**"
   ]
  },
  {
   "cell_type": "code",
   "execution_count": 12,
   "metadata": {},
   "outputs": [
    {
     "data": {
      "text/plain": [
       "<AxesSubplot:>"
      ]
     },
     "execution_count": 12,
     "metadata": {},
     "output_type": "execute_result"
    },
    {
     "data": {
      "image/png": "[encoded data removed]",
      "text/plain": [
       "<Figure size 432x288 with 1 Axes>"
      ]
     },
     "metadata": {
      "needs_background": "light"
     },
     "output_type": "display_data"
    }
   ],
   "source": [
    "df['MonthlyCharges'].hist()"
   ]
  },
  {
   "cell_type": "code",
   "execution_count": 13,
   "metadata": {},
   "outputs": [
    {
     "data": {
      "text/plain": [
       "<AxesSubplot:>"
      ]
     },
     "execution_count": 13,
     "metadata": {},
     "output_type": "execute_result"
    },
    {
     "data": {
      "image/png": "[encoded data removed]",
      "text/plain": [
       "<Figure size 432x288 with 1 Axes>"
      ]
     },
     "metadata": {
      "needs_background": "light"
     },
     "output_type": "display_data"
    }
   ],
   "source": [
    "churn_sample = df[df.Churn=='Yes'].MonthlyCharges\n",
    "\n",
    "churn_sample.hist()"
   ]
  },
  {
   "cell_type": "markdown",
   "metadata": {},
   "source": [
    "**B. Set Hypothesis**\n",
    "\n",
    "$H_{0}$: Mean of monthly charges of churned customers = Mean of monthly charges of all customers  \n",
    "$H_{a}$: Mean of monthly charges of churned customers > Mean of monthly charges of all customers  \n",
    "\n",
    "**C. Set Alpha**"
   ]
  },
  {
   "cell_type": "code",
   "execution_count": 14,
   "metadata": {},
   "outputs": [],
   "source": [
    "alpha = .05"
   ]
  },
  {
   "cell_type": "markdown",
   "metadata": {},
   "source": [
    "**D. Verify Assumptions**"
   ]
  },
  {
   "cell_type": "code",
   "execution_count": 15,
   "metadata": {},
   "outputs": [
    {
     "data": {
      "text/plain": [
       "No     5174\n",
       "Yes    1869\n",
       "Name: Churn, dtype: int64"
      ]
     },
     "execution_count": 15,
     "metadata": {},
     "output_type": "execute_result"
    }
   ],
   "source": [
    "df.Churn.value_counts()"
   ]
  },
  {
   "cell_type": "markdown",
   "metadata": {},
   "source": [
    "Our churn sample is large enough, as is overall count, to meet the assumptions of normal distributions. "
   ]
  },
  {
   "cell_type": "markdown",
   "metadata": {},
   "source": [
    "**E. Compute test statistic and probability (t-statistic & p-value)**\n",
    "\n",
    "- scipy.stats.ttest_1samp\n",
    "- For a 1-tailed test where our alternative hypothesis is testing for \"greater than\", we evaluate 𝑝/2 < 𝛼  and  𝑡 > 0. "
   ]
  },
  {
   "cell_type": "code",
   "execution_count": 16,
   "metadata": {},
   "outputs": [
    {
     "name": "stdout",
     "output_type": "stream",
     "text": [
      "16.965403080505645 1.8703196496920532e-60 0.05\n"
     ]
    }
   ],
   "source": [
    "churn_sample = df[df.Churn=='Yes'].MonthlyCharges\n",
    "overall_mean = df.MonthlyCharges.mean()\n",
    "\n",
    "t, p = stats.ttest_1samp(churn_sample, overall_mean)\n",
    "\n",
    "print(t, p/2, alpha)"
   ]
  },
  {
   "cell_type": "markdown",
   "metadata": {},
   "source": [
    "**F. Decide**\n",
    "\n",
    "Is 1/2 * p < alpha AND t > 0? \n",
    "\n",
    "Is $t > 0$ and $p/2 < \\alpha$"
   ]
  },
  {
   "cell_type": "code",
   "execution_count": 17,
   "metadata": {},
   "outputs": [
    {
     "name": "stdout",
     "output_type": "stream",
     "text": [
      "We reject $H_{0}$\n"
     ]
    }
   ],
   "source": [
    "if p/2 > alpha:\n",
    "    print(\"We fail to reject $H_{0}$\")\n",
    "elif t < 0:\n",
    "    print(\"We fail to reject $H_{0}$\")\n",
    "else:\n",
    "    print(\"We reject $H_{0}$\")"
   ]
  },
  {
   "cell_type": "markdown",
   "metadata": {},
   "source": [
    "## Example 2\n",
    "\n",
    "**A. Distributions** See above\n",
    "\n",
    "**B. Set Hypothesis**\n",
    "\n",
    "$H_{0}$: Mean of monthly charges of churned customers = Mean of monthly charges of all customers  \n",
    "$H_{a}$: Mean of monthly charges of churned customers != Mean of monthly charges of all customers  \n",
    "\n",
    "**C. Set Alpha** See above  \n",
    "\n",
    "**D. Assumptions** See above  \n",
    "\n",
    "**E. Compute test statistics**"
   ]
  },
  {
   "cell_type": "code",
   "execution_count": 18,
   "metadata": {},
   "outputs": [
    {
     "data": {
      "text/plain": [
       "(16.965403080505645, 3.7406392993841064e-60)"
      ]
     },
     "execution_count": 18,
     "metadata": {},
     "output_type": "execute_result"
    }
   ],
   "source": [
    "t, p = stats.ttest_1samp(churn_sample, overall_mean)\n",
    "t, p"
   ]
  },
  {
   "cell_type": "markdown",
   "metadata": {},
   "source": [
    "**F. Is p-value less than alpha?**"
   ]
  },
  {
   "cell_type": "code",
   "execution_count": 19,
   "metadata": {},
   "outputs": [
    {
     "data": {
      "text/plain": [
       "True"
      ]
     },
     "execution_count": 19,
     "metadata": {},
     "output_type": "execute_result"
    }
   ],
   "source": [
    "p < alpha"
   ]
  },
  {
   "cell_type": "markdown",
   "metadata": {},
   "source": [
    "## Example 3\n",
    "\n",
    "**A. Distributions** See above\n",
    "\n",
    "**B. Set Hypothesis**\n",
    "\n",
    "$H_{0}$: Mean of monthly charges of churned customers = Mean of monthly charges of all customers  \n",
    "$H_{a}$: Mean of monthly charges of churned customers < Mean of monthly charges of all customers  \n",
    "\n",
    "**C. Set Alpha** See above  \n",
    "\n",
    "**D. Assumptions** See above  \n",
    "\n",
    "**E. Compute test statistics**"
   ]
  },
  {
   "cell_type": "code",
   "execution_count": 20,
   "metadata": {},
   "outputs": [
    {
     "data": {
      "text/plain": [
       "(16.965403080505645, 3.7406392993841064e-60)"
      ]
     },
     "execution_count": 20,
     "metadata": {},
     "output_type": "execute_result"
    }
   ],
   "source": [
    "t, p = stats.ttest_1samp(churn_sample, overall_mean)\n",
    "t, p"
   ]
  },
  {
   "cell_type": "markdown",
   "metadata": {},
   "source": [
    "**F. Decide**\n",
    "\n",
    "Is 1/2 of p-value < alpha AND t-stat < 0? "
   ]
  },
  {
   "cell_type": "code",
   "execution_count": 21,
   "metadata": {},
   "outputs": [
    {
     "name": "stdout",
     "output_type": "stream",
     "text": [
      "False\n",
      "True\n"
     ]
    }
   ],
   "source": [
    "print(t < 0)\n",
    "print(p/2 < alpha)"
   ]
  },
  {
   "cell_type": "markdown",
   "metadata": {},
   "source": [
    "## Independent T-Test (a.k.a. Two Sample T-Test)\n",
    "\n",
    "Goal: Compare mean of group a to mean of group b. \n",
    "\n",
    "1. Plot Distributions (i.e. Histograms!)  \n",
    "\n",
    "2. Establish Hypotheses   \n",
    "\n",
    "||||  \n",
    "|-----|-----|---------|  \n",
    "|Null Hypothesis|$H_{0}$|$\\mu_{a} == \\mu_{b}$|  \n",
    "|Alternative Hypothesis (2-tail, significantly different)|$H_{a}$|$\\mu_{a} != \\mu_{b}$|  \n",
    "|Alternative Hypothesis (1-tail, a is significantly smaller than b)|$H_{a}$|$\\mu_{a} < \\mu_{b}$|  \n",
    "|Alternative Hypothesis (1-tail, a is significantly larger than b)|$H_{a}$|$\\mu_{a} < \\mu_{b}$|      \n",
    "\n",
    "3. Set Significance Level: $\\alpha = .05$\n",
    "\n",
    "4. Verify Assumptions:  \n",
    "    - Normal Distribution, or at least 30 observations and \"kinda\" normal. The more observations you have, the less \"normal\" it needs to appear. (CLT)  \n",
    "    - Independent samples  \n",
    "    - Equal Variances (or set method argument to False when not  \n",
    "\n",
    "\n",
    "5. Compute test statistic and probability (t-statistic & p-value) using `scipy.stats.ttest_1samp`\n",
    "\n",
    "6. Decide. \n",
    "\n",
    "### Example 1\n",
    "\n",
    "I believe customers who churn are charged more (monthly average) than customers who don't churn. \n",
    "Is the mean of monthly charges of customers who churn significantly higher than the mean of those who don't churn? \n",
    "\n",
    "We will use a 1-tailed (\"significantly higher\"), 1-sample (comparing 1 group to the average) t-test.  "
   ]
  },
  {
   "cell_type": "code",
   "execution_count": 22,
   "metadata": {},
   "outputs": [
    {
     "data": {
      "text/plain": [
       "<AxesSubplot:>"
      ]
     },
     "execution_count": 22,
     "metadata": {},
     "output_type": "execute_result"
    },
    {
     "data": {
      "image/png": "[encoded data removed]",
      "text/plain": [
       "<Figure size 432x288 with 1 Axes>"
      ]
     },
     "metadata": {
      "needs_background": "light"
     },
     "output_type": "display_data"
    }
   ],
   "source": [
    "churn_sample = df[df.Churn=='Yes'].MonthlyCharges\n",
    "\n",
    "churn_sample.hist()"
   ]
  },
  {
   "cell_type": "code",
   "execution_count": 23,
   "metadata": {},
   "outputs": [
    {
     "data": {
      "text/plain": [
       "<AxesSubplot:>"
      ]
     },
     "execution_count": 23,
     "metadata": {},
     "output_type": "execute_result"
    },
    {
     "data": {
      "image/png": "[encoded data removed]",
      "text/plain": [
       "<Figure size 432x288 with 1 Axes>"
      ]
     },
     "metadata": {
      "needs_background": "light"
     },
     "output_type": "display_data"
    }
   ],
   "source": [
    "no_churn_sample = df[df.Churn=='No'].MonthlyCharges\n",
    "\n",
    "no_churn_sample.hist()"
   ]
  },
  {
   "cell_type": "markdown",
   "metadata": {},
   "source": [
    "**Set Hypothesis**\n",
    "\n",
    "$H_{0}$: Mean of monthly charges of churned customers = Mean of monthly charges of customers who haven't churned  \n",
    "$H_{a}$: Mean of monthly charges of churned customers > Mean of monthly charges of customers who haven't churned  \n",
    "\n",
    "**Set Alpha**"
   ]
  },
  {
   "cell_type": "code",
   "execution_count": 24,
   "metadata": {},
   "outputs": [],
   "source": [
    "alpha = .05"
   ]
  },
  {
   "cell_type": "markdown",
   "metadata": {},
   "source": [
    "**Verify Assumptions**\n",
    "\n",
    "1. Independent Samples (n.a. for 1-sample t-test). YES! no observations in the churn sample exist in the no-churn sample. \n",
    "\n",
    "2. Normal Distribution, or at least 30 observations and \"kinda\" normal. The more observations you have, the less \"normal\" it needs to appear. (CLT).  YES! Plenty of observations\n",
    "\n",
    "3. Equal Variances (the scipy methods we will use has an argument to handle when variances aren't equal)."
   ]
  },
  {
   "cell_type": "code",
   "execution_count": 25,
   "metadata": {},
   "outputs": [
    {
     "name": "stdout",
     "output_type": "stream",
     "text": [
      "608.4141833954304\n",
      "966.7527670734287\n"
     ]
    }
   ],
   "source": [
    "print(churn_sample.var())\n",
    "print(no_churn_sample.var())"
   ]
  },
  {
   "cell_type": "markdown",
   "metadata": {},
   "source": [
    "NO! so we will set the argument of equal_var to False. \n",
    "\n",
    "**Compute Test Statistic**"
   ]
  },
  {
   "cell_type": "code",
   "execution_count": 26,
   "metadata": {},
   "outputs": [
    {
     "data": {
      "text/plain": [
       "(18.407526676414673, 4.2962246657737696e-73)"
      ]
     },
     "execution_count": 26,
     "metadata": {},
     "output_type": "execute_result"
    }
   ],
   "source": [
    "t, p = stats.ttest_ind(churn_sample, no_churn_sample, equal_var = False)\n",
    "t, p/2"
   ]
  },
  {
   "cell_type": "markdown",
   "metadata": {},
   "source": [
    "**Decide**"
   ]
  },
  {
   "cell_type": "code",
   "execution_count": 27,
   "metadata": {},
   "outputs": [
    {
     "name": "stdout",
     "output_type": "stream",
     "text": [
      "is p/2 < alpha?  True\n",
      "is t > 0?  True\n"
     ]
    }
   ],
   "source": [
    "print(\"is p/2 < alpha? \", p/2 < alpha)\n",
    "print(\"is t > 0? \", t > 0)"
   ]
  },
  {
   "cell_type": "code",
   "execution_count": 28,
   "metadata": {},
   "outputs": [
    {
     "name": "stdout",
     "output_type": "stream",
     "text": [
      "We reject $H_{0}$\n"
     ]
    }
   ],
   "source": [
    "if p/2 > alpha:\n",
    "    print(\"We fail to reject $H_{0}$\")\n",
    "elif t < 0:\n",
    "    print(\"We fail to reject $H_{0}$\")\n",
    "else:\n",
    "    print(\"We reject $H_{0}$\")"
   ]
  },
  {
   "cell_type": "markdown",
   "metadata": {},
   "source": [
    "## Example 2\n",
    "\n",
    "Are charges of customers who churn *significantly different* than those who do not churn? \n",
    "\n",
    "$H_{0}$: charges of customers who churn equals that of those who don't churn.   \n",
    "\n",
    "$H_{a}$: charges of customers who churn is not equal to that of those who don't churn. "
   ]
  },
  {
   "cell_type": "code",
   "execution_count": 79,
   "metadata": {},
   "outputs": [
    {
     "data": {
      "text/plain": [
       "(18.407526676414673, 8.592449331547539e-73)"
      ]
     },
     "execution_count": 79,
     "metadata": {},
     "output_type": "execute_result"
    }
   ],
   "source": [
    "t, p = stats.ttest_ind(churn_sample, no_churn_sample, equal_var=False)\n",
    "\n",
    "t, p"
   ]
  },
  {
   "cell_type": "markdown",
   "metadata": {},
   "source": [
    "**Decide**\n",
    "\n",
    "Is the p-value less than alpha?"
   ]
  },
  {
   "cell_type": "code",
   "execution_count": 77,
   "metadata": {},
   "outputs": [
    {
     "name": "stdout",
     "output_type": "stream",
     "text": [
      "Reject $H_{0}$?  True\n"
     ]
    }
   ],
   "source": [
    "print(\"Reject $H_{0}$? \", p < alpha)"
   ]
  },
  {
   "cell_type": "markdown",
   "metadata": {},
   "source": [
    "## Example 3\n",
    "\n",
    "Are charges of customers who churn *significantly less* than those who do not churn? \n",
    "\n",
    "$H_{0}$: charges of customers who churn equals that of those who don't churn.   \n",
    "\n",
    "$H_{a}$: charges of customers who churn is less than that of those who don't churn. "
   ]
  },
  {
   "cell_type": "code",
   "execution_count": 80,
   "metadata": {},
   "outputs": [
    {
     "data": {
      "text/plain": [
       "(18.407526676414673, 8.592449331547539e-73)"
      ]
     },
     "execution_count": 80,
     "metadata": {},
     "output_type": "execute_result"
    }
   ],
   "source": [
    "t, p = stats.ttest_ind(churn_sample, no_churn_sample, equal_var=False)\n",
    "\n",
    "t, p"
   ]
  },
  {
   "cell_type": "markdown",
   "metadata": {},
   "source": [
    "**Decide**\n",
    "\n",
    "is t < 0? AND is p/2 < alpha?\n"
   ]
  },
  {
   "cell_type": "code",
   "execution_count": 82,
   "metadata": {},
   "outputs": [
    {
     "name": "stdout",
     "output_type": "stream",
     "text": [
      "Is t < 0?  False\n",
      "is p/2 < alpha?  True\n"
     ]
    }
   ],
   "source": [
    "print(\"Is t < 0? \", t<0)\n",
    "\n",
    "print(\"is p/2 < alpha? \", p/2<alpha)"
   ]
  },
  {
   "cell_type": "markdown",
   "metadata": {},
   "source": [
    "## ANOVA Analysis of Variance\n",
    "\n",
    "Goal: Compare means of groups a, b & c. \n",
    "\n",
    "1. Plot Distributions (i.e. Histograms!)  \n",
    "\n",
    "2. Establish Hypotheses   \n",
    "\n",
    "||||  \n",
    "|-----|-----|---------|  \n",
    "|Null Hypothesis|$H_{0}$|$\\mu_{a} == \\mu_{b} == \\mu_{c}$|  \n",
    "|Alternative Hypothesis (significantly different)|$H_{a}$|$\\mu_{a} != \\mu_{b} != \\mu_{c}$|  \n",
    "\n",
    "3. Set Significance Level: $\\alpha = .05$\n",
    "\n",
    "4. Verify Assumptions:  \n",
    "    - Normal Distribution, or at least 30 observations and \"kinda\" normal. The more observations you have, the less \"normal\" it needs to appear. (CLT)  \n",
    "    - Independent samples  \n",
    "    - Equal Variances\n",
    "\n",
    "\n",
    "5. Compute test statistic and probability (t-statistic & p-value) using `scipy.stats.f_oneway`"
   ]
  },
  {
   "cell_type": "markdown",
   "metadata": {},
   "source": [
    "## Example 1\n",
    "\n",
    "Is the sepal length significantly different across the different species of iris? "
   ]
  },
  {
   "cell_type": "code",
   "execution_count": 83,
   "metadata": {},
   "outputs": [
    {
     "data": {
      "text/plain": [
       "versicolor    50\n",
       "virginica     50\n",
       "setosa        50\n",
       "Name: species, dtype: int64"
      ]
     },
     "execution_count": 83,
     "metadata": {},
     "output_type": "execute_result"
    }
   ],
   "source": [
    "df = sns.load_dataset('iris')\n",
    "df.species.value_counts()"
   ]
  },
  {
   "cell_type": "code",
   "execution_count": 85,
   "metadata": {},
   "outputs": [
    {
     "data": {
      "text/plain": [
       "count    150.000000\n",
       "mean       5.843333\n",
       "std        0.828066\n",
       "min        4.300000\n",
       "25%        5.100000\n",
       "50%        5.800000\n",
       "75%        6.400000\n",
       "max        7.900000\n",
       "Name: sepal_length, dtype: float64"
      ]
     },
     "execution_count": 85,
     "metadata": {},
     "output_type": "execute_result"
    }
   ],
   "source": [
    "df.sepal_length.describe()"
   ]
  },
  {
   "cell_type": "code",
   "execution_count": 37,
   "metadata": {},
   "outputs": [],
   "source": [
    "versicolor_sepal_length = df[df.species == 'versicolor'].sepal_length\n",
    "virginica_sepal_length = df[df.species == 'virginica'].sepal_length\n",
    "setosa_sepal_length = df[df.species == 'setosa'].sepal_length"
   ]
  },
  {
   "cell_type": "markdown",
   "metadata": {},
   "source": [
    "**A. Plot Distribution**  "
   ]
  },
  {
   "cell_type": "code",
   "execution_count": 86,
   "metadata": {},
   "outputs": [
    {
     "data": {
      "text/plain": [
       "<matplotlib.axes._subplots.AxesSubplot at 0x7ffd2c0633c8>"
      ]
     },
     "execution_count": 86,
     "metadata": {},
     "output_type": "execute_result"
    },
    {
     "data": {
      "image/png": "[encoded data removed]",
      "text/plain": [
       "<Figure size 432x288 with 1 Axes>"
      ]
     },
     "metadata": {
      "needs_background": "light"
     },
     "output_type": "display_data"
    }
   ],
   "source": [
    "versicolor_sepal_length.hist()"
   ]
  },
  {
   "cell_type": "code",
   "execution_count": 87,
   "metadata": {},
   "outputs": [
    {
     "data": {
      "text/plain": [
       "<matplotlib.axes._subplots.AxesSubplot at 0x7ffd2bffa710>"
      ]
     },
     "execution_count": 87,
     "metadata": {},
     "output_type": "execute_result"
    },
    {
     "data": {
      "image/png": "[encoded data removed]",
      "text/plain": [
       "<Figure size 432x288 with 1 Axes>"
      ]
     },
     "metadata": {
      "needs_background": "light"
     },
     "output_type": "display_data"
    }
   ],
   "source": [
    "virginica_sepal_length.hist()"
   ]
  },
  {
   "cell_type": "code",
   "execution_count": 88,
   "metadata": {},
   "outputs": [
    {
     "data": {
      "text/plain": [
       "<matplotlib.axes._subplots.AxesSubplot at 0x7ffd2a692320>"
      ]
     },
     "execution_count": 88,
     "metadata": {},
     "output_type": "execute_result"
    },
    {
     "data": {
      "image/png": "[encoded data removed]",
      "text/plain": [
       "<Figure size 432x288 with 1 Axes>"
      ]
     },
     "metadata": {
      "needs_background": "light"
     },
     "output_type": "display_data"
    }
   ],
   "source": [
    "setosa_sepal_length.hist()"
   ]
  },
  {
   "cell_type": "markdown",
   "metadata": {},
   "source": [
    "**B. State Hypotheses**\n",
    "\n",
    "$H_{0}$: population means of the sepal length for the three species, versicolor, virginica & setosa, are all equal.  \n",
    "\n",
    "$H_{a}$: population means of the sepal length for the three species, versicolor, virginica & setosa, are NOT all equal. \n",
    "\n",
    "**C. Set Significance Level**"
   ]
  },
  {
   "cell_type": "code",
   "execution_count": 89,
   "metadata": {},
   "outputs": [],
   "source": [
    "alpha = .05"
   ]
  },
  {
   "cell_type": "markdown",
   "metadata": {},
   "source": [
    "**D. Verify Assumptions**\n",
    "\n",
    "- Independent samples: YES!  \n",
    "- Normal Distribution, or at least 30 observations and \"kinda\" normal. The more observations you have, the less \"normal\" it needs to appear. (CLT). YES! the distributions are mostly normal  \n",
    "- Equal Variances: YES! The variance is very small so the differences are minor. "
   ]
  },
  {
   "cell_type": "code",
   "execution_count": 90,
   "metadata": {},
   "outputs": [
    {
     "name": "stdout",
     "output_type": "stream",
     "text": [
      "0.2664326530612245\n",
      "0.4043428571428573\n",
      "0.12424897959183677\n"
     ]
    }
   ],
   "source": [
    "print(versicolor_sepal_length.var())\n",
    "print(virginica_sepal_length.var())\n",
    "print(setosa_sepal_length.var())"
   ]
  },
  {
   "cell_type": "markdown",
   "metadata": {},
   "source": [
    "**E. Compute test statistics**"
   ]
  },
  {
   "cell_type": "code",
   "execution_count": 92,
   "metadata": {},
   "outputs": [
    {
     "data": {
      "text/plain": [
       "(119.26450218450472, 1.6696691907693648e-31)"
      ]
     },
     "execution_count": 92,
     "metadata": {},
     "output_type": "execute_result"
    }
   ],
   "source": [
    "f, p = stats.f_oneway(versicolor_sepal_length, virginica_sepal_length, setosa_sepal_length)\n",
    "f, p"
   ]
  },
  {
   "cell_type": "markdown",
   "metadata": {},
   "source": [
    "**F. Decide**"
   ]
  },
  {
   "cell_type": "code",
   "execution_count": 93,
   "metadata": {},
   "outputs": [
    {
     "name": "stdout",
     "output_type": "stream",
     "text": [
      "We reject $H_{0}$\n"
     ]
    }
   ],
   "source": [
    "if p < alpha:\n",
    "    print(\"We reject $H_{0}$\")\n",
    "else:\n",
    "    print(\"We fail to reject $H_{0}$\")"
   ]
  },
  {
   "cell_type": "code",
   "execution_count": 49,
   "metadata": {},
   "outputs": [
    {
     "name": "stderr",
     "output_type": "stream",
     "text": [
      "/Users/maggiegiust/anaconda3/lib/python3.6/site-packages/seaborn/utils.py:376: UserWarning: No parser was explicitly specified, so I'm using the best available HTML parser for this system (\"lxml\"). This usually isn't a problem, but if you run this code on another system, or in a different virtual environment, it may use a different parser and behave differently.\n",
      "\n",
      "The code that caused this warning is on line 376 of the file /Users/maggiegiust/anaconda3/lib/python3.6/site-packages/seaborn/utils.py. To get rid of this warning, pass the additional argument 'features=\"lxml\"' to the BeautifulSoup constructor.\n",
      "\n",
      "  gh_list = BeautifulSoup(http)\n"
     ]
    },
    {
     "data": {
      "text/plain": [
       "['anagrams',\n",
       " 'anscombe',\n",
       " 'attention',\n",
       " 'brain_networks',\n",
       " 'car_crashes',\n",
       " 'diamonds',\n",
       " 'dots',\n",
       " 'exercise',\n",
       " 'flights',\n",
       " 'fmri',\n",
       " 'gammas',\n",
       " 'geyser',\n",
       " 'iris',\n",
       " 'mpg',\n",
       " 'penguins',\n",
       " 'planets',\n",
       " 'tips',\n",
       " 'titanic']"
      ]
     },
     "execution_count": 49,
     "metadata": {},
     "output_type": "execute_result"
    }
   ],
   "source": [
    "sns.get_dataset_names()"
   ]
  },
  {
   "cell_type": "markdown",
   "metadata": {},
   "source": [
    "### Example 2"
   ]
  },
  {
   "cell_type": "code",
   "execution_count": 109,
   "metadata": {},
   "outputs": [
    {
     "data": {
      "text/plain": [
       "usa       249\n",
       "japan      79\n",
       "europe     70\n",
       "Name: origin, dtype: int64"
      ]
     },
     "execution_count": 109,
     "metadata": {},
     "output_type": "execute_result"
    }
   ],
   "source": [
    "df = sns.load_dataset('mpg')\n",
    "df.origin.value_counts()"
   ]
  },
  {
   "cell_type": "code",
   "execution_count": 110,
   "metadata": {},
   "outputs": [
    {
     "name": "stdout",
     "output_type": "stream",
     "text": [
      "<class 'pandas.core.frame.DataFrame'>\n",
      "RangeIndex: 398 entries, 0 to 397\n",
      "Data columns (total 9 columns):\n",
      "mpg             398 non-null float64\n",
      "cylinders       398 non-null int64\n",
      "displacement    398 non-null float64\n",
      "horsepower      392 non-null float64\n",
      "weight          398 non-null int64\n",
      "acceleration    398 non-null float64\n",
      "model_year      398 non-null int64\n",
      "origin          398 non-null object\n",
      "name            398 non-null object\n",
      "dtypes: float64(4), int64(3), object(2)\n",
      "memory usage: 28.1+ KB\n"
     ]
    }
   ],
   "source": [
    "df.head()\n",
    "df.info()"
   ]
  },
  {
   "cell_type": "markdown",
   "metadata": {},
   "source": [
    "Drop nulls"
   ]
  },
  {
   "cell_type": "code",
   "execution_count": 112,
   "metadata": {},
   "outputs": [],
   "source": [
    "df = df[~df['horsepower'].isna()]"
   ]
  },
  {
   "cell_type": "code",
   "execution_count": 113,
   "metadata": {},
   "outputs": [],
   "source": [
    "usa_hp = df[df.origin == 'usa'].horsepower\n",
    "japan_hp = df[df.origin == 'japan'].horsepower\n",
    "eu_hp = df[df.origin == 'europe'].horsepower"
   ]
  },
  {
   "cell_type": "markdown",
   "metadata": {},
   "source": [
    "**Plot Distribution**"
   ]
  },
  {
   "cell_type": "code",
   "execution_count": 114,
   "metadata": {},
   "outputs": [
    {
     "data": {
      "text/plain": [
       "<matplotlib.axes._subplots.AxesSubplot at 0x7ffd2ac12048>"
      ]
     },
     "execution_count": 114,
     "metadata": {},
     "output_type": "execute_result"
    },
    {
     "data": {
      "image/png": "[encoded data removed]",
      "text/plain": [
       "<Figure size 432x288 with 1 Axes>"
      ]
     },
     "metadata": {
      "needs_background": "light"
     },
     "output_type": "display_data"
    }
   ],
   "source": [
    "usa_hp.hist()"
   ]
  },
  {
   "cell_type": "code",
   "execution_count": 115,
   "metadata": {},
   "outputs": [
    {
     "data": {
      "text/plain": [
       "<matplotlib.axes._subplots.AxesSubplot at 0x7ffd2b0b2f60>"
      ]
     },
     "execution_count": 115,
     "metadata": {},
     "output_type": "execute_result"
    },
    {
     "data": {
      "image/png": "[encoded data removed]",
      "text/plain": [
       "<Figure size 432x288 with 1 Axes>"
      ]
     },
     "metadata": {
      "needs_background": "light"
     },
     "output_type": "display_data"
    }
   ],
   "source": [
    "japan_hp.hist()"
   ]
  },
  {
   "cell_type": "code",
   "execution_count": 116,
   "metadata": {},
   "outputs": [
    {
     "data": {
      "text/plain": [
       "<matplotlib.axes._subplots.AxesSubplot at 0x7ffd2b8b6080>"
      ]
     },
     "execution_count": 116,
     "metadata": {},
     "output_type": "execute_result"
    },
    {
     "data": {
      "image/png": "[encoded data removed]",
      "text/plain": [
       "<Figure size 432x288 with 1 Axes>"
      ]
     },
     "metadata": {
      "needs_background": "light"
     },
     "output_type": "display_data"
    }
   ],
   "source": [
    "eu_hp.hist()"
   ]
  },
  {
   "cell_type": "markdown",
   "metadata": {},
   "source": [
    "**Hypothesis**\n",
    "\n",
    "$H_{0}$: hp is the same across all origins\n",
    "\n",
    "$H_{a}$: hp is not the same across all origins\n",
    "\n",
    "**Significance Level**\n",
    "\n",
    "$\\alpha$ is already set to .05\n",
    "\n",
    "**Verify Assumptions**\n",
    "\n",
    "- Normal: yes!\n",
    "- Independent: yes!\n",
    "- Variance: ?"
   ]
  },
  {
   "cell_type": "code",
   "execution_count": 117,
   "metadata": {},
   "outputs": [
    {
     "data": {
      "text/plain": [
       "1591.8336567413849"
      ]
     },
     "execution_count": 117,
     "metadata": {},
     "output_type": "execute_result"
    }
   ],
   "source": [
    "usa_hp.var()"
   ]
  },
  {
   "cell_type": "code",
   "execution_count": 118,
   "metadata": {},
   "outputs": [
    {
     "data": {
      "text/plain": [
       "317.5238558909445"
      ]
     },
     "execution_count": 118,
     "metadata": {},
     "output_type": "execute_result"
    }
   ],
   "source": [
    "japan_hp.var()"
   ]
  },
  {
   "cell_type": "code",
   "execution_count": 119,
   "metadata": {},
   "outputs": [
    {
     "data": {
      "text/plain": [
       "406.33977172958737"
      ]
     },
     "execution_count": 119,
     "metadata": {},
     "output_type": "execute_result"
    }
   ],
   "source": [
    "eu_hp.var()"
   ]
  },
  {
   "cell_type": "markdown",
   "metadata": {},
   "source": [
    "Looking at the variances, they are very different, so I will move to a 2-sample, independent t-test comparing usa made cars vs. non-usa made cars. "
   ]
  },
  {
   "cell_type": "code",
   "execution_count": 120,
   "metadata": {},
   "outputs": [],
   "source": [
    "usa_hp = df[df.origin == 'usa'].horsepower\n",
    "non_usa_hp = df[df.origin != 'usa'].horsepower"
   ]
  },
  {
   "cell_type": "markdown",
   "metadata": {},
   "source": [
    "**Hypothesis**\n",
    "\n",
    "$H_{0}$: usa origin cars' hp equals non-usa origin cars' hp\n",
    "\n",
    "$H_{a}$: usa origin cars' hp does not equal non-usa origin cars' hp\n",
    "\n",
    "**Significance Level**\n",
    "\n",
    "$\\alpha$ is already set to .05\n",
    "\n",
    "**Verify Assumptions**\n",
    "\n",
    "- Normal: yes!\n",
    "- Independent: yes!\n",
    "- Variance: ?"
   ]
  },
  {
   "cell_type": "code",
   "execution_count": 121,
   "metadata": {},
   "outputs": [
    {
     "name": "stdout",
     "output_type": "stream",
     "text": [
      "1591.8336567413849\n",
      "356.2380020501351\n"
     ]
    }
   ],
   "source": [
    "print(usa_hp.var())\n",
    "print(non_usa_hp.var())"
   ]
  },
  {
   "cell_type": "code",
   "execution_count": 122,
   "metadata": {},
   "outputs": [
    {
     "data": {
      "text/plain": [
       "(13.017135027378012, 3.384733024288272e-32)"
      ]
     },
     "execution_count": 122,
     "metadata": {},
     "output_type": "execute_result"
    }
   ],
   "source": [
    "t, p = stats.ttest_ind(usa_hp, non_usa_hp, equal_var = False)\n",
    "t, p"
   ]
  },
  {
   "cell_type": "markdown",
   "metadata": {},
   "source": [
    "**Decide**\n",
    "\n",
    "is p-value less than alpha? "
   ]
  },
  {
   "cell_type": "code",
   "execution_count": 123,
   "metadata": {},
   "outputs": [
    {
     "data": {
      "text/plain": [
       "True"
      ]
     },
     "execution_count": 123,
     "metadata": {},
     "output_type": "execute_result"
    }
   ],
   "source": [
    "p < alpha"
   ]
  },
  {
   "cell_type": "markdown",
   "metadata": {},
   "source": [
    "Reject null hypothesis. The hp of usa cars vs. non-usa cars is significantly different. "
   ]
  },
  {
   "cell_type": "code",
   "execution_count": 125,
   "metadata": {},
   "outputs": [
    {
     "data": {
      "text/plain": [
       "KruskalResult(statistic=105.59475799843663, pvalue=1.1759521262123952e-23)"
      ]
     },
     "execution_count": 125,
     "metadata": {},
     "output_type": "execute_result"
    }
   ],
   "source": [
    "stats.kruskal(usa_hp, japan_hp, eu_hp)"
   ]
  },
  {
   "cell_type": "markdown",
   "metadata": {},
   "source": [
    "Using Kruskal-Wallis test, non-parametric test for ANOVA, also shows us that the mean HP of the cars from the 3 origins is significantly different. "
   ]
  },
  {
   "cell_type": "markdown",
   "metadata": {},
   "source": [
    "__________________________________\n",
    "\n",
    "## Example x\n",
    "\n",
    "$H_{0}$: there is no difference in mpg of cars made in japan vs. europe.  \n",
    "\n",
    "$H_{a}$: there IS a difference in mpg of cars made in japan vs. europe. "
   ]
  },
  {
   "cell_type": "code",
   "execution_count": 127,
   "metadata": {},
   "outputs": [],
   "source": [
    "j_mpg = df[df.origin == 'japan'].mpg\n",
    "\n",
    "e_mpg = df[df.origin == 'europe'].mpg"
   ]
  },
  {
   "cell_type": "markdown",
   "metadata": {},
   "source": [
    "**Distribution plot**"
   ]
  },
  {
   "cell_type": "code",
   "execution_count": 128,
   "metadata": {},
   "outputs": [
    {
     "data": {
      "text/plain": [
       "<matplotlib.axes._subplots.AxesSubplot at 0x7ffd2b9c3ac8>"
      ]
     },
     "execution_count": 128,
     "metadata": {},
     "output_type": "execute_result"
    },
    {
     "data": {
      "image/png": "[encoded data removed]",
      "text/plain": [
       "<Figure size 432x288 with 1 Axes>"
      ]
     },
     "metadata": {
      "needs_background": "light"
     },
     "output_type": "display_data"
    }
   ],
   "source": [
    "j_mpg.hist()"
   ]
  },
  {
   "cell_type": "code",
   "execution_count": 129,
   "metadata": {},
   "outputs": [
    {
     "data": {
      "text/plain": [
       "<matplotlib.axes._subplots.AxesSubplot at 0x7ffd2b0c5cf8>"
      ]
     },
     "execution_count": 129,
     "metadata": {},
     "output_type": "execute_result"
    },
    {
     "data": {
      "image/png": "[encoded data removed]",
      "text/plain": [
       "<Figure size 432x288 with 1 Axes>"
      ]
     },
     "metadata": {
      "needs_background": "light"
     },
     "output_type": "display_data"
    }
   ],
   "source": [
    "e_mpg.hist()"
   ]
  },
  {
   "cell_type": "code",
   "execution_count": 130,
   "metadata": {},
   "outputs": [
    {
     "data": {
      "text/plain": [
       "37.08868549172348"
      ]
     },
     "execution_count": 130,
     "metadata": {},
     "output_type": "execute_result"
    }
   ],
   "source": [
    "j_mpg.var()"
   ]
  },
  {
   "cell_type": "code",
   "execution_count": 131,
   "metadata": {},
   "outputs": [
    {
     "data": {
      "text/plain": [
       "43.298797190518"
      ]
     },
     "execution_count": 131,
     "metadata": {},
     "output_type": "execute_result"
    }
   ],
   "source": [
    "e_mpg.var()"
   ]
  },
  {
   "cell_type": "code",
   "execution_count": 139,
   "metadata": {},
   "outputs": [
    {
     "data": {
      "text/plain": [
       "(2.723324735392516, 0.007256875026960007)"
      ]
     },
     "execution_count": 139,
     "metadata": {},
     "output_type": "execute_result"
    }
   ],
   "source": [
    "t, p = stats.ttest_ind(j_mpg, e_mpg)\n",
    "t, p"
   ]
  },
  {
   "cell_type": "code",
   "execution_count": 140,
   "metadata": {},
   "outputs": [
    {
     "data": {
      "text/plain": [
       "True"
      ]
     },
     "execution_count": 140,
     "metadata": {},
     "output_type": "execute_result"
    }
   ],
   "source": [
    "p < alpha"
   ]
  },
  {
   "cell_type": "markdown",
   "metadata": {},
   "source": [
    "Reject the $H_{0}$, i.e. there is a significant difference in mpg in cars from japan vs. europe. "
   ]
  },
  {
   "cell_type": "markdown",
   "metadata": {},
   "source": [
    "### Example\n",
    "\n",
    "$H_{0}$: there is no difference in horsepower of cars made in japan vs. europe.  \n",
    "\n",
    "$H_{a}$: there IS a difference in horsepower of cars made in japan vs. europe. "
   ]
  },
  {
   "cell_type": "code",
   "execution_count": 143,
   "metadata": {},
   "outputs": [
    {
     "data": {
      "text/plain": [
       "(-0.23093695241338835, 0.8176893173506833)"
      ]
     },
     "execution_count": 143,
     "metadata": {},
     "output_type": "execute_result"
    }
   ],
   "source": [
    "t, p = stats.ttest_ind(japan_hp, eu_hp)\n",
    "t, p"
   ]
  },
  {
   "cell_type": "code",
   "execution_count": 144,
   "metadata": {},
   "outputs": [
    {
     "data": {
      "text/plain": [
       "False"
      ]
     },
     "execution_count": 144,
     "metadata": {},
     "output_type": "execute_result"
    }
   ],
   "source": [
    "p < alpha"
   ]
  },
  {
   "cell_type": "markdown",
   "metadata": {},
   "source": [
    "Fail to reject our $H_{0}$, i.e. there is no significant difference in the hp or cars made in japan vs. europe. "
   ]
  },
  {
   "cell_type": "code",
   "execution_count": null,
   "metadata": {},
   "outputs": [],
   "source": []
  }
 ],
 "metadata": {
  "kernelspec": {
   "display_name": "Python 3",
   "language": "python",
   "name": "python3"
  },
  "language_info": {
   "codemirror_mode": {
    "name": "ipython",
    "version": 3
   },
   "file_extension": ".py",
   "mimetype": "text/x-python",
   "name": "python",
   "nbconvert_exporter": "python",
   "pygments_lexer": "ipython3",
   "version": "3.8.8"
  }
 },
 "nbformat": 4,
 "nbformat_minor": 2
}
